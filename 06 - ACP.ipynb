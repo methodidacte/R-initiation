{
 "cells": [
  {
   "cell_type": "code",
   "execution_count": 1,
   "metadata": {},
   "outputs": [
    {
     "name": "stderr",
     "output_type": "stream",
     "text": [
      "Installing package into 'C:/Users/ppeton/Documents/R/win-library/3.4'\n",
      "(as 'lib' is unspecified)\n",
      "also installing the dependencies 'minqa', 'nloptr', 'Rcpp', 'RcppEigen', 'lme4', 'SparseM', 'MatrixModels', 'pbkrtest', 'quantreg', 'car', 'ellipse', 'flashClust', 'leaps', 'scatterplot3d'\n",
      "\n"
     ]
    },
    {
     "name": "stdout",
     "output_type": "stream",
     "text": [
      "package 'minqa' successfully unpacked and MD5 sums checked\n",
      "package 'nloptr' successfully unpacked and MD5 sums checked\n",
      "package 'Rcpp' successfully unpacked and MD5 sums checked\n",
      "package 'RcppEigen' successfully unpacked and MD5 sums checked\n",
      "package 'lme4' successfully unpacked and MD5 sums checked\n",
      "package 'SparseM' successfully unpacked and MD5 sums checked\n",
      "package 'MatrixModels' successfully unpacked and MD5 sums checked\n",
      "package 'pbkrtest' successfully unpacked and MD5 sums checked\n",
      "package 'quantreg' successfully unpacked and MD5 sums checked\n",
      "package 'car' successfully unpacked and MD5 sums checked\n",
      "package 'ellipse' successfully unpacked and MD5 sums checked\n",
      "package 'flashClust' successfully unpacked and MD5 sums checked\n",
      "package 'leaps' successfully unpacked and MD5 sums checked\n",
      "package 'scatterplot3d' successfully unpacked and MD5 sums checked\n",
      "package 'FactoMineR' successfully unpacked and MD5 sums checked\n",
      "\n",
      "The downloaded binary packages are in\n",
      "\tC:\\Users\\ppeton\\AppData\\Local\\Temp\\Rtmp6tkLSi\\downloaded_packages\n"
     ]
    }
   ],
   "source": [
    "###########################################\n",
    "# ACP decathlon                           #\n",
    "###########################################\n",
    "\n",
    "#librairie\n",
    "install.packages(\"FactoMineR\")\n",
    "library(FactoMineR)"
   ]
  },
  {
   "cell_type": "code",
   "execution_count": 45,
   "metadata": {},
   "outputs": [
    {
     "data": {
      "text/html": [
       "<table>\n",
       "<thead><tr><th></th><th scope=col>100m</th><th scope=col>Long.jump</th><th scope=col>Shot.put</th><th scope=col>High.jump</th><th scope=col>400m</th><th scope=col>110m.hurdle</th><th scope=col>Discus</th><th scope=col>Pole.vault</th><th scope=col>Javeline</th><th scope=col>1500m</th><th scope=col>Rank</th><th scope=col>Points</th><th scope=col>Competition</th></tr></thead>\n",
       "<tbody>\n",
       "\t<tr><th scope=row>SEBRLE</th><td>11.04   </td><td>7.58    </td><td>14.83   </td><td>2.07    </td><td>49.81   </td><td>14.69   </td><td>43.75   </td><td>5.02    </td><td>63.19   </td><td>291.7   </td><td>1       </td><td>8217    </td><td>Decastar</td></tr>\n",
       "\t<tr><th scope=row>CLAY</th><td>10.76   </td><td>7.40    </td><td>14.26   </td><td>1.86    </td><td>49.37   </td><td>14.05   </td><td>50.72   </td><td>4.92    </td><td>60.15   </td><td>301.5   </td><td>2       </td><td>8122    </td><td>Decastar</td></tr>\n",
       "\t<tr><th scope=row>KARPOV</th><td>11.02   </td><td>7.30    </td><td>14.77   </td><td>2.04    </td><td>48.37   </td><td>14.09   </td><td>48.95   </td><td>4.92    </td><td>50.31   </td><td>300.2   </td><td>3       </td><td>8099    </td><td>Decastar</td></tr>\n",
       "\t<tr><th scope=row>BERNARD</th><td>11.02   </td><td>7.23    </td><td>14.25   </td><td>1.92    </td><td>48.93   </td><td>14.99   </td><td>40.87   </td><td>5.32    </td><td>62.77   </td><td>280.1   </td><td>4       </td><td>8067    </td><td>Decastar</td></tr>\n",
       "\t<tr><th scope=row>YURKOV</th><td>11.34   </td><td>7.09    </td><td>15.19   </td><td>2.10    </td><td>50.42   </td><td>15.31   </td><td>46.26   </td><td>4.72    </td><td>63.44   </td><td>276.4   </td><td>5       </td><td>8036    </td><td>Decastar</td></tr>\n",
       "\t<tr><th scope=row>WARNERS</th><td>11.11   </td><td>7.60    </td><td>14.31   </td><td>1.98    </td><td>48.68   </td><td>14.23   </td><td>41.10   </td><td>4.92    </td><td>51.77   </td><td>278.1   </td><td>6       </td><td>8030    </td><td>Decastar</td></tr>\n",
       "</tbody>\n",
       "</table>\n"
      ],
      "text/latex": [
       "\\begin{tabular}{r|lllllllllllll}\n",
       "  & 100m & Long.jump & Shot.put & High.jump & 400m & 110m.hurdle & Discus & Pole.vault & Javeline & 1500m & Rank & Points & Competition\\\\\n",
       "\\hline\n",
       "\tSEBRLE & 11.04    & 7.58     & 14.83    & 2.07     & 49.81    & 14.69    & 43.75    & 5.02     & 63.19    & 291.7    & 1        & 8217     & Decastar\\\\\n",
       "\tCLAY & 10.76    & 7.40     & 14.26    & 1.86     & 49.37    & 14.05    & 50.72    & 4.92     & 60.15    & 301.5    & 2        & 8122     & Decastar\\\\\n",
       "\tKARPOV & 11.02    & 7.30     & 14.77    & 2.04     & 48.37    & 14.09    & 48.95    & 4.92     & 50.31    & 300.2    & 3        & 8099     & Decastar\\\\\n",
       "\tBERNARD & 11.02    & 7.23     & 14.25    & 1.92     & 48.93    & 14.99    & 40.87    & 5.32     & 62.77    & 280.1    & 4        & 8067     & Decastar\\\\\n",
       "\tYURKOV & 11.34    & 7.09     & 15.19    & 2.10     & 50.42    & 15.31    & 46.26    & 4.72     & 63.44    & 276.4    & 5        & 8036     & Decastar\\\\\n",
       "\tWARNERS & 11.11    & 7.60     & 14.31    & 1.98     & 48.68    & 14.23    & 41.10    & 4.92     & 51.77    & 278.1    & 6        & 8030     & Decastar\\\\\n",
       "\\end{tabular}\n"
      ],
      "text/markdown": [
       "\n",
       "| <!--/--> | 100m | Long.jump | Shot.put | High.jump | 400m | 110m.hurdle | Discus | Pole.vault | Javeline | 1500m | Rank | Points | Competition | \n",
       "|---|---|---|---|---|---|\n",
       "| SEBRLE | 11.04    | 7.58     | 14.83    | 2.07     | 49.81    | 14.69    | 43.75    | 5.02     | 63.19    | 291.7    | 1        | 8217     | Decastar | \n",
       "| CLAY | 10.76    | 7.40     | 14.26    | 1.86     | 49.37    | 14.05    | 50.72    | 4.92     | 60.15    | 301.5    | 2        | 8122     | Decastar | \n",
       "| KARPOV | 11.02    | 7.30     | 14.77    | 2.04     | 48.37    | 14.09    | 48.95    | 4.92     | 50.31    | 300.2    | 3        | 8099     | Decastar | \n",
       "| BERNARD | 11.02    | 7.23     | 14.25    | 1.92     | 48.93    | 14.99    | 40.87    | 5.32     | 62.77    | 280.1    | 4        | 8067     | Decastar | \n",
       "| YURKOV | 11.34    | 7.09     | 15.19    | 2.10     | 50.42    | 15.31    | 46.26    | 4.72     | 63.44    | 276.4    | 5        | 8036     | Decastar | \n",
       "| WARNERS | 11.11    | 7.60     | 14.31    | 1.98     | 48.68    | 14.23    | 41.10    | 4.92     | 51.77    | 278.1    | 6        | 8030     | Decastar | \n",
       "\n",
       "\n"
      ],
      "text/plain": [
       "        100m  Long.jump Shot.put High.jump 400m  110m.hurdle Discus Pole.vault\n",
       "SEBRLE  11.04 7.58      14.83    2.07      49.81 14.69       43.75  5.02      \n",
       "CLAY    10.76 7.40      14.26    1.86      49.37 14.05       50.72  4.92      \n",
       "KARPOV  11.02 7.30      14.77    2.04      48.37 14.09       48.95  4.92      \n",
       "BERNARD 11.02 7.23      14.25    1.92      48.93 14.99       40.87  5.32      \n",
       "YURKOV  11.34 7.09      15.19    2.10      50.42 15.31       46.26  4.72      \n",
       "WARNERS 11.11 7.60      14.31    1.98      48.68 14.23       41.10  4.92      \n",
       "        Javeline 1500m Rank Points Competition\n",
       "SEBRLE  63.19    291.7 1    8217   Decastar   \n",
       "CLAY    60.15    301.5 2    8122   Decastar   \n",
       "KARPOV  50.31    300.2 3    8099   Decastar   \n",
       "BERNARD 62.77    280.1 4    8067   Decastar   \n",
       "YURKOV  63.44    276.4 5    8036   Decastar   \n",
       "WARNERS 51.77    278.1 6    8030   Decastar   "
      ]
     },
     "metadata": {},
     "output_type": "display_data"
    },
    {
     "name": "stdout",
     "output_type": "stream",
     "text": [
      "'data.frame':\t41 obs. of  13 variables:\n",
      " $ 100m       : num  11 10.8 11 11 11.3 ...\n",
      " $ Long.jump  : num  7.58 7.4 7.3 7.23 7.09 7.6 7.3 7.31 6.81 7.56 ...\n",
      " $ Shot.put   : num  14.8 14.3 14.8 14.2 15.2 ...\n",
      " $ High.jump  : num  2.07 1.86 2.04 1.92 2.1 1.98 2.01 2.13 1.95 1.86 ...\n",
      " $ 400m       : num  49.8 49.4 48.4 48.9 50.4 ...\n",
      " $ 110m.hurdle: num  14.7 14.1 14.1 15 15.3 ...\n",
      " $ Discus     : num  43.8 50.7 49 40.9 46.3 ...\n",
      " $ Pole.vault : num  5.02 4.92 4.92 5.32 4.72 4.92 4.42 4.42 4.92 4.82 ...\n",
      " $ Javeline   : num  63.2 60.1 50.3 62.8 63.4 ...\n",
      " $ 1500m      : num  292 302 300 280 276 ...\n",
      " $ Rank       : int  1 2 3 4 5 6 7 8 9 10 ...\n",
      " $ Points     : int  8217 8122 8099 8067 8036 8030 8004 7995 7802 7733 ...\n",
      " $ Competition: Factor w/ 2 levels \"Decastar\",\"OlympicG\": 1 1 1 1 1 1 1 1 1 1 ...\n"
     ]
    }
   ],
   "source": [
    "#Données \n",
    "data(decathlon)\n",
    "#?decathlon\n",
    "head(decathlon)\n",
    "str(decathlon)\n",
    "\n",
    "#Données des JO\n",
    "JO<-decathlon[17:41,]"
   ]
  },
  {
   "cell_type": "code",
   "execution_count": 46,
   "metadata": {},
   "outputs": [
    {
     "data": {
      "text/html": [
       "'integer'"
      ],
      "text/latex": [
       "'integer'"
      ],
      "text/markdown": [
       "'integer'"
      ],
      "text/plain": [
       "[1] \"integer\""
      ]
     },
     "metadata": {},
     "output_type": "display_data"
    },
    {
     "data": {
      "text/html": [
       "'character'"
      ],
      "text/latex": [
       "'character'"
      ],
      "text/markdown": [
       "'character'"
      ],
      "text/plain": [
       "[1] \"character\""
      ]
     },
     "metadata": {},
     "output_type": "display_data"
    },
    {
     "data": {
      "text/html": [
       "<table>\n",
       "<thead><tr><th></th><th scope=col>100m</th><th scope=col>Long.jump</th><th scope=col>Shot.put</th><th scope=col>High.jump</th><th scope=col>400m</th><th scope=col>110m.hurdle</th><th scope=col>Discus</th><th scope=col>Pole.vault</th><th scope=col>Javeline</th><th scope=col>1500m</th></tr></thead>\n",
       "<tbody>\n",
       "\t<tr><th scope=row>4 - Macey</th><td>10.89 </td><td>7.47  </td><td>15.73 </td><td>2.15  </td><td>48.97 </td><td>14.56 </td><td>48.34 </td><td>4.4   </td><td>58.46 </td><td>265.42</td></tr>\n",
       "\t<tr><th scope=row>5 - Warners</th><td>10.62 </td><td>7.74  </td><td>14.48 </td><td>1.97  </td><td>47.97 </td><td>14.01 </td><td>43.73 </td><td>4.9   </td><td>55.39 </td><td>278.05</td></tr>\n",
       "\t<tr><th scope=row>6 - Zsivoczky</th><td>10.91 </td><td>7.14  </td><td>15.31 </td><td>2.12  </td><td>49.40 </td><td>14.95 </td><td>45.62 </td><td>4.7   </td><td>63.45 </td><td>269.54</td></tr>\n",
       "\t<tr><th scope=row>7 - Hernu</th><td>10.97 </td><td>7.19  </td><td>14.65 </td><td>2.03  </td><td>48.73 </td><td>14.25 </td><td>44.72 </td><td>4.8   </td><td>57.76 </td><td>264.35</td></tr>\n",
       "\t<tr><th scope=row>8 - Nool</th><td>10.80 </td><td>7.53  </td><td>14.26 </td><td>1.88  </td><td>48.81 </td><td>14.80 </td><td>42.05 </td><td>5.4   </td><td>61.33 </td><td>276.33</td></tr>\n",
       "\t<tr><th scope=row>9 - Bernard</th><td>10.69 </td><td>7.48  </td><td>14.80 </td><td>2.12  </td><td>49.13 </td><td>14.17 </td><td>44.75 </td><td>4.4   </td><td>55.27 </td><td>276.31</td></tr>\n",
       "</tbody>\n",
       "</table>\n"
      ],
      "text/latex": [
       "\\begin{tabular}{r|llllllllll}\n",
       "  & 100m & Long.jump & Shot.put & High.jump & 400m & 110m.hurdle & Discus & Pole.vault & Javeline & 1500m\\\\\n",
       "\\hline\n",
       "\t4 - Macey & 10.89  & 7.47   & 15.73  & 2.15   & 48.97  & 14.56  & 48.34  & 4.4    & 58.46  & 265.42\\\\\n",
       "\t5 - Warners & 10.62  & 7.74   & 14.48  & 1.97   & 47.97  & 14.01  & 43.73  & 4.9    & 55.39  & 278.05\\\\\n",
       "\t6 - Zsivoczky & 10.91  & 7.14   & 15.31  & 2.12   & 49.40  & 14.95  & 45.62  & 4.7    & 63.45  & 269.54\\\\\n",
       "\t7 - Hernu & 10.97  & 7.19   & 14.65  & 2.03   & 48.73  & 14.25  & 44.72  & 4.8    & 57.76  & 264.35\\\\\n",
       "\t8 - Nool & 10.80  & 7.53   & 14.26  & 1.88   & 48.81  & 14.80  & 42.05  & 5.4    & 61.33  & 276.33\\\\\n",
       "\t9 - Bernard & 10.69  & 7.48   & 14.80  & 2.12   & 49.13  & 14.17  & 44.75  & 4.4    & 55.27  & 276.31\\\\\n",
       "\\end{tabular}\n"
      ],
      "text/markdown": [
       "\n",
       "| <!--/--> | 100m | Long.jump | Shot.put | High.jump | 400m | 110m.hurdle | Discus | Pole.vault | Javeline | 1500m | \n",
       "|---|---|---|---|---|---|\n",
       "| 4 - Macey | 10.89  | 7.47   | 15.73  | 2.15   | 48.97  | 14.56  | 48.34  | 4.4    | 58.46  | 265.42 | \n",
       "| 5 - Warners | 10.62  | 7.74   | 14.48  | 1.97   | 47.97  | 14.01  | 43.73  | 4.9    | 55.39  | 278.05 | \n",
       "| 6 - Zsivoczky | 10.91  | 7.14   | 15.31  | 2.12   | 49.40  | 14.95  | 45.62  | 4.7    | 63.45  | 269.54 | \n",
       "| 7 - Hernu | 10.97  | 7.19   | 14.65  | 2.03   | 48.73  | 14.25  | 44.72  | 4.8    | 57.76  | 264.35 | \n",
       "| 8 - Nool | 10.80  | 7.53   | 14.26  | 1.88   | 48.81  | 14.80  | 42.05  | 5.4    | 61.33  | 276.33 | \n",
       "| 9 - Bernard | 10.69  | 7.48   | 14.80  | 2.12   | 49.13  | 14.17  | 44.75  | 4.4    | 55.27  | 276.31 | \n",
       "\n",
       "\n"
      ],
      "text/plain": [
       "              100m  Long.jump Shot.put High.jump 400m  110m.hurdle Discus\n",
       "4 - Macey     10.89 7.47      15.73    2.15      48.97 14.56       48.34 \n",
       "5 - Warners   10.62 7.74      14.48    1.97      47.97 14.01       43.73 \n",
       "6 - Zsivoczky 10.91 7.14      15.31    2.12      49.40 14.95       45.62 \n",
       "7 - Hernu     10.97 7.19      14.65    2.03      48.73 14.25       44.72 \n",
       "8 - Nool      10.80 7.53      14.26    1.88      48.81 14.80       42.05 \n",
       "9 - Bernard   10.69 7.48      14.80    2.12      49.13 14.17       44.75 \n",
       "              Pole.vault Javeline 1500m \n",
       "4 - Macey     4.4        58.46    265.42\n",
       "5 - Warners   4.9        55.39    278.05\n",
       "6 - Zsivoczky 4.7        63.45    269.54\n",
       "7 - Hernu     4.8        57.76    264.35\n",
       "8 - Nool      5.4        61.33    276.33\n",
       "9 - Bernard   4.4        55.27    276.31"
      ]
     },
     "metadata": {},
     "output_type": "display_data"
    }
   ],
   "source": [
    "#nom + classement dans les noms de ligne\n",
    "rank<-as.vector(t(JO[11]))\n",
    "class(rank)\n",
    "class(row.names(JO))\n",
    "new.name<-paste(rank, \"-\", rownames(JO))\n",
    "rownames(JO)<-new.name\n",
    "\n",
    "#Récupération des épreuves\n",
    "Epreuve<-JO[1:10]\n",
    "head(Epreuve)"
   ]
  },
  {
   "cell_type": "code",
   "execution_count": 4,
   "metadata": {},
   "outputs": [
    {
     "data": {
      "text/plain": [
       "      100m         Long.jump        Shot.put       High.jump    \n",
       " Min.   :10.55   Min.   :6.610   Min.   :13.07   Min.   :1.850  \n",
       " 1st Qu.:10.86   1st Qu.:6.990   1st Qu.:13.88   1st Qu.:1.910  \n",
       " Median :10.92   Median :7.260   Median :14.65   Median :1.940  \n",
       " Mean   :10.95   Mean   :7.193   Mean   :14.48   Mean   :1.963  \n",
       " 3rd Qu.:11.08   3rd Qu.:7.380   3rd Qu.:14.97   3rd Qu.:2.030  \n",
       " Max.   :11.36   Max.   :7.740   Max.   :15.73   Max.   :2.150  \n",
       "      400m        110m.hurdle        Discus        Pole.vault      Javeline    \n",
       " Min.   :47.97   Min.   :14.01   Min.   :39.83   Min.   :4.20   Min.   :50.62  \n",
       " 1st Qu.:49.11   1st Qu.:14.25   1st Qu.:41.90   1st Qu.:4.50   1st Qu.:55.27  \n",
       " Median :49.41   Median :14.56   Median :43.73   Median :4.70   Median :58.62  \n",
       " Mean   :49.79   Mean   :14.61   Mean   :43.68   Mean   :4.72   Mean   :58.19  \n",
       " 3rd Qu.:50.54   3rd Qu.:14.96   3rd Qu.:45.13   3rd Qu.:4.90   3rd Qu.:60.88  \n",
       " Max.   :53.20   Max.   :15.39   Max.   :49.02   Max.   :5.40   Max.   :65.82  \n",
       "     1500m      \n",
       " Min.   :263.1  \n",
       " 1st Qu.:269.7  \n",
       " Median :275.7  \n",
       " Mean   :277.3  \n",
       " 3rd Qu.:278.8  \n",
       " Max.   :317.0  "
      ]
     },
     "metadata": {},
     "output_type": "display_data"
    }
   ],
   "source": [
    "#Statistique descriptives \n",
    "summary(Epreuve)"
   ]
  },
  {
   "cell_type": "code",
   "execution_count": 5,
   "metadata": {},
   "outputs": [
    {
     "data": {
      "image/png": "[encoded data removed]",
      "text/plain": [
       "plot without title"
      ]
     },
     "metadata": {},
     "output_type": "display_data"
    }
   ],
   "source": [
    "# Matrice des nuages de points\n",
    "pairs(Epreuve)"
   ]
  },
  {
   "cell_type": "code",
   "execution_count": 6,
   "metadata": {},
   "outputs": [],
   "source": [
    "#ACP\n",
    "res.acp<-PCA(Epreuve, scale.unit=TRUE, ncp=10, graph=FALSE)\n",
    "#Epreuve: le data frame utilisé\n",
    "#scale.unit: pour choisir de centrer-réduire ou non les variables \n",
    "#ncp: le nombre de dimensions à garder dans les résultats (commencer par le nombre de variables)\n",
    "#graph: pour choisir de faire apparaître les graphiques ou non"
   ]
  },
  {
   "cell_type": "code",
   "execution_count": 7,
   "metadata": {},
   "outputs": [
    {
     "name": "stdout",
     "output_type": "stream",
     "text": [
      "\n",
      "Call:\n",
      "PCA(X = Epreuve, scale.unit = TRUE, ncp = 10, graph = FALSE) \n",
      "\n",
      "\n",
      "Eigenvalues\n",
      "                       Dim.1   Dim.2   Dim.3   Dim.4   Dim.5   Dim.6   Dim.7\n",
      "Variance               3.009   2.058   1.699   0.881   0.648   0.630   0.472\n",
      "% of var.             30.091  20.578  16.987   8.809   6.480   6.300   4.717\n",
      "Cumulative % of var.  30.091  50.669  67.657  76.466  82.946  89.245  93.963\n",
      "                       Dim.8   Dim.9  Dim.10\n",
      "Variance               0.322   0.166   0.116\n",
      "% of var.              3.221   1.660   1.156\n",
      "Cumulative % of var.  97.184  98.844 100.000\n",
      "\n",
      "Individuals (the 10 first)\n",
      "                    Dist    Dim.1    ctr   cos2    Dim.2    ctr   cos2    Dim.3\n",
      "4 - Macey       |  3.838 | -0.517  0.355  0.018 |  3.441 23.017  0.804 | -0.375\n",
      "5 - Warners     |  3.488 | -3.202 13.629  0.843 |  0.581  0.657  0.028 |  0.899\n",
      "6 - Zsivoczky   |  2.889 |  0.408  0.222  0.020 |  2.182  9.254  0.570 | -0.825\n",
      "7 - Hernu       |  1.938 | -0.990  1.303  0.261 |  0.980  1.865  0.255 | -0.553\n",
      "8 - Nool        |  3.238 | -1.739  4.020  0.288 | -1.136  2.510  0.123 |  0.204\n",
      "9 - Bernard     |  3.149 | -1.537  3.139  0.238 |  2.047  8.146  0.423 |  0.562\n",
      "10 - Schwarzl   |  2.149 | -1.386  2.552  0.416 | -0.886  1.528  0.170 |  0.517\n",
      "11 - Pogorelov  |  2.674 | -0.152  0.031  0.003 |  0.916  1.632  0.117 |  2.161\n",
      "12 - Schoenbeck |  1.859 | -0.277  0.102  0.022 | -0.095  0.018  0.003 |  0.238\n",
      "13 - Barras     |  2.436 |  0.660  0.579  0.073 |  0.766  1.139  0.099 | -1.842\n",
      "                   ctr   cos2  \n",
      "4 - Macey        0.331  0.010 |\n",
      "5 - Warners      1.904  0.066 |\n",
      "6 - Zsivoczky    1.604  0.082 |\n",
      "7 - Hernu        0.719  0.081 |\n",
      "8 - Nool         0.098  0.004 |\n",
      "9 - Bernard      0.743  0.032 |\n",
      "10 - Schwarzl    0.630  0.058 |\n",
      "11 - Pogorelov  10.997  0.653 |\n",
      "12 - Schoenbeck  0.134  0.016 |\n",
      "13 - Barras      7.989  0.572 |\n",
      "\n",
      "Variables\n",
      "                   Dim.1    ctr   cos2    Dim.2    ctr   cos2    Dim.3    ctr\n",
      "100m            |  0.768 19.610  0.590 | -0.285  3.938  0.081 | -0.256  3.846\n",
      "Long.jump       | -0.836 23.247  0.700 |  0.018  0.016  0.000 |  0.149  1.303\n",
      "Shot.put        |  0.156  0.805  0.024 |  0.840 34.255  0.705 |  0.144  1.220\n",
      "High.jump       | -0.022  0.016  0.000 |  0.747 27.098  0.558 |  0.159  1.491\n",
      "400m            |  0.843 23.630  0.711 | -0.126  0.773  0.016 |  0.321  6.057\n",
      "110m.hurdle     |  0.623 12.913  0.389 | -0.278  3.766  0.078 | -0.043  0.107\n",
      "Discus          |  0.402  5.364  0.161 |  0.685 22.819  0.470 |  0.171  1.731\n",
      "Pole.vault      | -0.375  4.670  0.141 | -0.281  3.836  0.079 |  0.489 14.049\n",
      "Javeline        |  0.273  2.475  0.074 |  0.247  2.970  0.061 | -0.742 32.419\n",
      "1500m           |  0.468  7.270  0.219 | -0.104  0.527  0.011 |  0.801 37.776\n",
      "                  cos2  \n",
      "100m             0.065 |\n",
      "Long.jump        0.022 |\n",
      "Shot.put         0.021 |\n",
      "High.jump        0.025 |\n",
      "400m             0.103 |\n",
      "110m.hurdle      0.002 |\n",
      "Discus           0.029 |\n",
      "Pole.vault       0.239 |\n",
      "Javeline         0.551 |\n",
      "1500m            0.642 |\n"
     ]
    },
    {
     "data": {
      "text/html": [
       "<dl>\n",
       "\t<dt>$names</dt>\n",
       "\t\t<dd><ol class=list-inline>\n",
       "\t<li>'eig'</li>\n",
       "\t<li>'var'</li>\n",
       "\t<li>'ind'</li>\n",
       "\t<li>'svd'</li>\n",
       "\t<li>'call'</li>\n",
       "</ol>\n",
       "</dd>\n",
       "\t<dt>$class</dt>\n",
       "\t\t<dd><ol class=list-inline>\n",
       "\t<li>'PCA'</li>\n",
       "\t<li>'list '</li>\n",
       "</ol>\n",
       "</dd>\n",
       "</dl>\n"
      ],
      "text/latex": [
       "\\begin{description}\n",
       "\\item[\\$names] \\begin{enumerate*}\n",
       "\\item 'eig'\n",
       "\\item 'var'\n",
       "\\item 'ind'\n",
       "\\item 'svd'\n",
       "\\item 'call'\n",
       "\\end{enumerate*}\n",
       "\n",
       "\\item[\\$class] \\begin{enumerate*}\n",
       "\\item 'PCA'\n",
       "\\item 'list '\n",
       "\\end{enumerate*}\n",
       "\n",
       "\\end{description}\n"
      ],
      "text/markdown": [
       "$names\n",
       ":   1. 'eig'\n",
       "2. 'var'\n",
       "3. 'ind'\n",
       "4. 'svd'\n",
       "5. 'call'\n",
       "\n",
       "\n",
       "\n",
       "$class\n",
       ":   1. 'PCA'\n",
       "2. 'list '\n",
       "\n",
       "\n",
       "\n",
       "\n",
       "\n"
      ],
      "text/plain": [
       "$names\n",
       "[1] \"eig\"  \"var\"  \"ind\"  \"svd\"  \"call\"\n",
       "\n",
       "$class\n",
       "[1] \"PCA\"   \"list \"\n"
      ]
     },
     "metadata": {},
     "output_type": "display_data"
    }
   ],
   "source": [
    "#résumé de l’acp\n",
    "summary(res.acp)\n",
    "attributes(res.acp)"
   ]
  },
  {
   "cell_type": "code",
   "execution_count": 8,
   "metadata": {},
   "outputs": [
    {
     "name": "stderr",
     "output_type": "stream",
     "text": [
      "Warning message in plot.window(xlim, ylim, log = log, ...):\n",
      "\"paramètre graphique \"type\" incorrect\"Warning message in axis(if (horiz) 2 else 1, at = at.l, labels = names.arg, lty = axis.lty, :\n",
      "\"paramètre graphique \"type\" incorrect\"Warning message in title(main = main, sub = sub, xlab = xlab, ylab = ylab, ...):\n",
      "\"paramètre graphique \"type\" incorrect\"Warning message in axis(if (horiz) 1 else 2, cex.axis = cex.axis, ...):\n",
      "\"paramètre graphique \"type\" incorrect\""
     ]
    },
    {
     "data": {
      "image/png": "[encoded data removed]",
      "text/plain": [
       "Plot with title \"Contribution par composante\""
      ]
     },
     "metadata": {},
     "output_type": "display_data"
    }
   ],
   "source": [
    "#graphique des valeurs propres\n",
    "graph.vp<-barplot(res.acp$eig[,2], col=rainbow(12),type=\"b\", ylab=\"Valeurs propres\", xlab=\"Composantes\", main=\"Contribution par composante\")\n",
    "text(graph.vp, res.acp$eig[,2], labels=paste(round(res.acp$eig[,2],2),\"%\"), pos=3, xpd=TRUE)"
   ]
  },
  {
   "cell_type": "code",
   "execution_count": 9,
   "metadata": {},
   "outputs": [
    {
     "data": {
      "image/png": "[encoded data removed]",
      "text/plain": [
       "Plot with title \"Variables factor map (PCA)\""
      ]
     },
     "metadata": {},
     "output_type": "display_data"
    }
   ],
   "source": [
    "#graphique des variables\n",
    "plot.PCA(res.acp, axes=c(1,2), choix=\"var\")"
   ]
  },
  {
   "cell_type": "code",
   "execution_count": 10,
   "metadata": {},
   "outputs": [
    {
     "data": {
      "text/html": [
       "<dl>\n",
       "\t<dt>$Dim.1</dt>\n",
       "\t\t<dd><strong>$quanti</strong> = <table>\n",
       "<thead><tr><th></th><th scope=col>correlation</th><th scope=col>p.value</th></tr></thead>\n",
       "<tbody>\n",
       "\t<tr><th scope=row>400m</th><td> 0.8432369  </td><td>1.210820e-07</td></tr>\n",
       "\t<tr><th scope=row>100m</th><td> 0.7681683  </td><td>7.337164e-06</td></tr>\n",
       "\t<tr><th scope=row>110m.hurdle</th><td> 0.6233604  </td><td>8.716697e-04</td></tr>\n",
       "\t<tr><th scope=row>1500m</th><td> 0.4677106  </td><td>1.839276e-02</td></tr>\n",
       "\t<tr><th scope=row>Discus</th><td> 0.4017598  </td><td>4.650958e-02</td></tr>\n",
       "\t<tr><th scope=row>Long.jump</th><td>-0.8363773  </td><td>1.912185e-07</td></tr>\n",
       "</tbody>\n",
       "</table>\n",
       "</dd>\n",
       "\t<dt>$Dim.2</dt>\n",
       "\t\t<dd><strong>$quanti</strong> = <table>\n",
       "<thead><tr><th></th><th scope=col>correlation</th><th scope=col>p.value</th></tr></thead>\n",
       "<tbody>\n",
       "\t<tr><th scope=row>Shot.put</th><td>0.8395855   </td><td>1.548320e-07</td></tr>\n",
       "\t<tr><th scope=row>High.jump</th><td>0.7467450   </td><td>1.806526e-05</td></tr>\n",
       "\t<tr><th scope=row>Discus</th><td>0.6852567   </td><td>1.569474e-04</td></tr>\n",
       "</tbody>\n",
       "</table>\n",
       "</dd>\n",
       "</dl>\n"
      ],
      "text/latex": [
       "\\begin{description}\n",
       "\\item[\\$Dim.1] \\textbf{\\$quanti} = \\begin{tabular}{r|ll}\n",
       "  & correlation & p.value\\\\\n",
       "\\hline\n",
       "\t400m &  0.8432369   & 1.210820e-07\\\\\n",
       "\t100m &  0.7681683   & 7.337164e-06\\\\\n",
       "\t110m.hurdle &  0.6233604   & 8.716697e-04\\\\\n",
       "\t1500m &  0.4677106   & 1.839276e-02\\\\\n",
       "\tDiscus &  0.4017598   & 4.650958e-02\\\\\n",
       "\tLong.jump & -0.8363773   & 1.912185e-07\\\\\n",
       "\\end{tabular}\n",
       "\n",
       "\\item[\\$Dim.2] \\textbf{\\$quanti} = \\begin{tabular}{r|ll}\n",
       "  & correlation & p.value\\\\\n",
       "\\hline\n",
       "\tShot.put & 0.8395855    & 1.548320e-07\\\\\n",
       "\tHigh.jump & 0.7467450    & 1.806526e-05\\\\\n",
       "\tDiscus & 0.6852567    & 1.569474e-04\\\\\n",
       "\\end{tabular}\n",
       "\n",
       "\\end{description}\n"
      ],
      "text/markdown": [
       "$Dim.1\n",
       ":   **$quanti** = \n",
       "| <!--/--> | correlation | p.value | \n",
       "|---|---|---|---|---|---|\n",
       "| 400m |  0.8432369   | 1.210820e-07 | \n",
       "| 100m |  0.7681683   | 7.337164e-06 | \n",
       "| 110m.hurdle |  0.6233604   | 8.716697e-04 | \n",
       "| 1500m |  0.4677106   | 1.839276e-02 | \n",
       "| Discus |  0.4017598   | 4.650958e-02 | \n",
       "| Long.jump | -0.8363773   | 1.912185e-07 | \n",
       "\n",
       "\n",
       "\n",
       "$Dim.2\n",
       ":   **$quanti** = \n",
       "| <!--/--> | correlation | p.value | \n",
       "|---|---|---|\n",
       "| Shot.put | 0.8395855    | 1.548320e-07 | \n",
       "| High.jump | 0.7467450    | 1.806526e-05 | \n",
       "| Discus | 0.6852567    | 1.569474e-04 | \n",
       "\n",
       "\n",
       "\n",
       "\n",
       "\n"
      ],
      "text/plain": [
       "$Dim.1\n",
       "$Dim.1$quanti\n",
       "            correlation      p.value\n",
       "400m          0.8432369 1.210820e-07\n",
       "100m          0.7681683 7.337164e-06\n",
       "110m.hurdle   0.6233604 8.716697e-04\n",
       "1500m         0.4677106 1.839276e-02\n",
       "Discus        0.4017598 4.650958e-02\n",
       "Long.jump    -0.8363773 1.912185e-07\n",
       "\n",
       "\n",
       "$Dim.2\n",
       "$Dim.2$quanti\n",
       "          correlation      p.value\n",
       "Shot.put    0.8395855 1.548320e-07\n",
       "High.jump   0.7467450 1.806526e-05\n",
       "Discus      0.6852567 1.569474e-04\n",
       "\n"
      ]
     },
     "metadata": {},
     "output_type": "display_data"
    }
   ],
   "source": [
    "#Contribution des variables pour les deux premières dimensions : \n",
    "dimdesc(res.acp, axes=c(1,2))"
   ]
  },
  {
   "cell_type": "code",
   "execution_count": 11,
   "metadata": {},
   "outputs": [
    {
     "data": {
      "image/png": "[encoded data removed]",
      "text/plain": [
       "Plot with title \"Individuals factor map (PCA)\""
      ]
     },
     "metadata": {},
     "output_type": "display_data"
    }
   ],
   "source": [
    "#graphique des individus\n",
    "plot.PCA(res.acp, axes=c(1,2), choix=\"ind\")"
   ]
  },
  {
   "cell_type": "code",
   "execution_count": 12,
   "metadata": {},
   "outputs": [
    {
     "data": {
      "image/png": "[encoded data removed]",
      "text/plain": [
       "Plot with title \"Individuals factor map (PCA)\""
      ]
     },
     "metadata": {},
     "output_type": "display_data"
    }
   ],
   "source": [
    "#Superposition variables et individus\n",
    "plot.PCA(res.acp, axes=c(1,2), choix=\"ind\")\n",
    "p<-ncol(Epreuve)\t\n",
    "for(i in 1:p){\n",
    "\tarrows(0, 0, res.acp$var$coord[i,1]*3, res.acp$var$coord[i,2]*3, col=\"red\", length=0.1)\n",
    "}\n",
    "text(res.acp$var$coord[,1]*3, res.acp$var$coord[,2]*3, labels=colnames(Epreuve), col=\"red\", cex=0.8) "
   ]
  },
  {
   "cell_type": "code",
   "execution_count": 13,
   "metadata": {},
   "outputs": [
    {
     "data": {
      "text/html": [
       "<dl class=dl-horizontal>\n",
       "\t<dt>100m</dt>\n",
       "\t\t<dd>0.768168316123118</dd>\n",
       "\t<dt>Long.jump</dt>\n",
       "\t\t<dd>-0.836377258414139</dd>\n",
       "\t<dt>Shot.put</dt>\n",
       "\t\t<dd>0.155633446193692</dd>\n",
       "\t<dt>High.jump</dt>\n",
       "\t\t<dd>-0.0215975349591269</dd>\n",
       "\t<dt>400m</dt>\n",
       "\t\t<dd>0.843236928878754</dd>\n",
       "\t<dt>110m.hurdle</dt>\n",
       "\t\t<dd>0.623360423752972</dd>\n",
       "\t<dt>Discus</dt>\n",
       "\t\t<dd>0.401759806163892</dd>\n",
       "\t<dt>Pole.vault</dt>\n",
       "\t\t<dd>-0.374880301124373</dd>\n",
       "\t<dt>Javeline</dt>\n",
       "\t\t<dd>0.272927582861559</dd>\n",
       "\t<dt>1500m</dt>\n",
       "\t\t<dd>0.467710586609108</dd>\n",
       "</dl>\n"
      ],
      "text/latex": [
       "\\begin{description*}\n",
       "\\item[100m] 0.768168316123118\n",
       "\\item[Long.jump] -0.836377258414139\n",
       "\\item[Shot.put] 0.155633446193692\n",
       "\\item[High.jump] -0.0215975349591269\n",
       "\\item[400m] 0.843236928878754\n",
       "\\item[110m.hurdle] 0.623360423752972\n",
       "\\item[Discus] 0.401759806163892\n",
       "\\item[Pole.vault] -0.374880301124373\n",
       "\\item[Javeline] 0.272927582861559\n",
       "\\item[1500m] 0.467710586609108\n",
       "\\end{description*}\n"
      ],
      "text/markdown": [
       "100m\n",
       ":   0.768168316123118Long.jump\n",
       ":   -0.836377258414139Shot.put\n",
       ":   0.155633446193692High.jump\n",
       ":   -0.0215975349591269400m\n",
       ":   0.843236928878754110m.hurdle\n",
       ":   0.623360423752972Discus\n",
       ":   0.401759806163892Pole.vault\n",
       ":   -0.374880301124373Javeline\n",
       ":   0.2729275828615591500m\n",
       ":   0.467710586609108\n",
       "\n"
      ],
      "text/plain": [
       "       100m   Long.jump    Shot.put   High.jump        400m 110m.hurdle \n",
       " 0.76816832 -0.83637726  0.15563345 -0.02159753  0.84323693  0.62336042 \n",
       "     Discus  Pole.vault    Javeline       1500m \n",
       " 0.40175981 -0.37488030  0.27292758  0.46771059 "
      ]
     },
     "metadata": {},
     "output_type": "display_data"
    }
   ],
   "source": [
    "#Rajout d'une variable illustrative\n",
    "Epreuve<-JO[1:11]\n",
    "res.acp<-PCA(Epreuve, scale.unit=TRUE, ncp=5, graph=TRUE, quanti.sup=11)\n",
    "res.acp$var$coord[,1]"
   ]
  }
 ],
 "metadata": {
  "kernelspec": {
   "display_name": "R",
   "language": "R",
   "name": "ir"
  },
  "language_info": {
   "codemirror_mode": "r",
   "file_extension": ".r",
   "mimetype": "text/x-r-source",
   "name": "R",
   "pygments_lexer": "r",
   "version": "3.4.3"
  }
 },
 "nbformat": 4,
 "nbformat_minor": 2
}
